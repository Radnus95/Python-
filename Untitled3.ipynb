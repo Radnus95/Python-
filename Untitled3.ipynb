{
 "cells": [
  {
   "cell_type": "code",
   "execution_count": 3,
   "id": "28e07ded",
   "metadata": {},
   "outputs": [
    {
     "name": "stdout",
     "output_type": "stream",
     "text": [
      "True\n"
     ]
    }
   ],
   "source": [
    "a = \"sundar\"\n",
    "print(a.isalpha())"
   ]
  },
  {
   "cell_type": "code",
   "execution_count": 7,
   "id": "673d7dbb",
   "metadata": {},
   "outputs": [
    {
     "name": "stdout",
     "output_type": "stream",
     "text": [
      "sundar:sundar\n"
     ]
    }
   ],
   "source": [
    "a =input(\"sundar:\")\n"
   ]
  },
  {
   "cell_type": "code",
   "execution_count": 8,
   "id": "e4a40664",
   "metadata": {},
   "outputs": [
    {
     "name": "stdout",
     "output_type": "stream",
     "text": [
      "['ashwin', 'loakesh', 'loakesh', 'sundar', 'sundar']\n"
     ]
    }
   ],
   "source": [
    "a = [\"sundar\",\"ashwin\",\"loakesh\",\"loakesh\",\"sundar\",'loakesh\",\"ashwin\"]\n",
    "     \n",
    "print(sorted(a))"
   ]
  },
  {
   "cell_type": "code",
   "execution_count": 20,
   "id": "7de4e262",
   "metadata": {},
   "outputs": [
    {
     "name": "stdout",
     "output_type": "stream",
     "text": [
      "0\n"
     ]
    }
   ],
   "source": [
    "e =[\"hi\",\"hello\",\"welcome\"]\n",
    "print(a.count(e))"
   ]
  },
  {
   "cell_type": "code",
   "execution_count": 21,
   "id": "e829bcea",
   "metadata": {},
   "outputs": [
    {
     "name": "stdout",
     "output_type": "stream",
     "text": [
      "dict_values(['kiran', 20, 'chennai'])\n"
     ]
    }
   ],
   "source": [
    "a = {\"name\":\"kiran\" , \"age\":20 , \"location\":\"chennai\"}\n",
    "print(a.values())"
   ]
  },
  {
   "cell_type": "code",
   "execution_count": 27,
   "id": "17c336b4",
   "metadata": {},
   "outputs": [
    {
     "name": "stdout",
     "output_type": "stream",
     "text": [
      "['20', 'chennai', 'kiran']\n"
     ]
    }
   ],
   "source": [
    "values = \"kiran\" , \"20\" , \"chennai\"\n",
    "print(sorted(values))"
   ]
  },
  {
   "cell_type": "code",
   "execution_count": null,
   "id": "4b6bda97",
   "metadata": {},
   "outputs": [],
   "source": []
  },
  {
   "cell_type": "code",
   "execution_count": null,
   "id": "8330bcfc",
   "metadata": {},
   "outputs": [],
   "source": [
    "\n"
   ]
  }
 ],
 "metadata": {
  "kernelspec": {
   "display_name": "Python 3 (ipykernel)",
   "language": "python",
   "name": "python3"
  },
  "language_info": {
   "codemirror_mode": {
    "name": "ipython",
    "version": 3
   },
   "file_extension": ".py",
   "mimetype": "text/x-python",
   "name": "python",
   "nbconvert_exporter": "python",
   "pygments_lexer": "ipython3",
   "version": "3.10.9"
  }
 },
 "nbformat": 4,
 "nbformat_minor": 5
}
