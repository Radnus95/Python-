{
 "cells": [
  {
   "cell_type": "code",
   "execution_count": 1,
   "id": "b03108b3",
   "metadata": {
    "scrolled": true
   },
   "outputs": [
    {
     "name": "stdout",
     "output_type": "stream",
     "text": [
      "{1, 2, 3, 4, 6, 7, 8}\n"
     ]
    }
   ],
   "source": [
    "a = {1,2,3,8,4,6,7}\n",
    "print(a)"
   ]
  },
  {
   "cell_type": "code",
   "execution_count": 2,
   "id": "b99937da",
   "metadata": {},
   "outputs": [
    {
     "name": "stdout",
     "output_type": "stream",
     "text": [
      "<class 'set'>\n"
     ]
    }
   ],
   "source": [
    "print(type(a))"
   ]
  },
  {
   "cell_type": "code",
   "execution_count": 3,
   "id": "0032d824",
   "metadata": {},
   "outputs": [
    {
     "name": "stdout",
     "output_type": "stream",
     "text": [
      "True\n"
     ]
    }
   ],
   "source": [
    "print(isinstance(a,set))"
   ]
  },
  {
   "cell_type": "code",
   "execution_count": 5,
   "id": "f848470b",
   "metadata": {},
   "outputs": [
    {
     "name": "stdout",
     "output_type": "stream",
     "text": [
      "1\n"
     ]
    }
   ],
   "source": [
    "print(min(a))"
   ]
  },
  {
   "cell_type": "code",
   "execution_count": 6,
   "id": "5ebb68bd",
   "metadata": {},
   "outputs": [
    {
     "name": "stdout",
     "output_type": "stream",
     "text": [
      "[1, 2, 3, 4, 6, 7, 8]\n"
     ]
    }
   ],
   "source": [
    "print(sorted(a))"
   ]
  },
  {
   "cell_type": "code",
   "execution_count": 8,
   "id": "50d79c19",
   "metadata": {},
   "outputs": [
    {
     "ename": "NameError",
     "evalue": "name 'index' is not defined",
     "output_type": "error",
     "traceback": [
      "\u001b[1;31m---------------------------------------------------------------------------\u001b[0m",
      "\u001b[1;31mNameError\u001b[0m                                 Traceback (most recent call last)",
      "Cell \u001b[1;32mIn[8], line 1\u001b[0m\n\u001b[1;32m----> 1\u001b[0m \u001b[38;5;28mprint\u001b[39m(\u001b[43mindex\u001b[49m(a))\n",
      "\u001b[1;31mNameError\u001b[0m: name 'index' is not defined"
     ]
    }
   ],
   "source": [
    "print(index(a))"
   ]
  },
  {
   "cell_type": "code",
   "execution_count": 9,
   "id": "8fe552ae",
   "metadata": {},
   "outputs": [],
   "source": [
    "#set is a data type and it also doesnot allows duplication of values\n",
    "\n"
   ]
  },
  {
   "cell_type": "code",
   "execution_count": 11,
   "id": "1835cb13",
   "metadata": {},
   "outputs": [
    {
     "ename": "NameError",
     "evalue": "name 'test' is not defined",
     "output_type": "error",
     "traceback": [
      "\u001b[1;31m---------------------------------------------------------------------------\u001b[0m",
      "\u001b[1;31mNameError\u001b[0m                                 Traceback (most recent call last)",
      "Cell \u001b[1;32mIn[11], line 1\u001b[0m\n\u001b[1;32m----> 1\u001b[0m a \u001b[38;5;241m=\u001b[39m {\u001b[43mtest\u001b[49m}\n\u001b[0;32m      2\u001b[0m \u001b[38;5;28mprint\u001b[39m(\u001b[38;5;28misinstance\u001b[39m(a,\u001b[38;5;28mset\u001b[39m))\n",
      "\u001b[1;31mNameError\u001b[0m: name 'test' is not defined"
     ]
    }
   ],
   "source": [
    "a = {test}\n",
    "print(isinstance(a,set))"
   ]
  },
  {
   "cell_type": "code",
   "execution_count": 12,
   "id": "d23d329f",
   "metadata": {},
   "outputs": [],
   "source": [
    "a = {1,2,3,4,}\n",
    "b = {3,4,5,6,7,8,9}\n"
   ]
  },
  {
   "cell_type": "code",
   "execution_count": 13,
   "id": "638c77c3",
   "metadata": {},
   "outputs": [
    {
     "name": "stdout",
     "output_type": "stream",
     "text": [
      "{1, 2, 3, 4, 5, 6, 7, 8, 9}\n",
      "{3, 4}\n",
      "{1, 2}\n"
     ]
    }
   ],
   "source": [
    "print(a.union(b))\n",
    "print(a.intersection(b))\n",
    "print(a.difference(b))"
   ]
  },
  {
   "cell_type": "code",
   "execution_count": 14,
   "id": "2e0db514",
   "metadata": {},
   "outputs": [
    {
     "name": "stdout",
     "output_type": "stream",
     "text": [
      "{1, 2}\n"
     ]
    }
   ],
   "source": [
    "print(a.difference(b))"
   ]
  },
  {
   "cell_type": "code",
   "execution_count": 15,
   "id": "021efa11",
   "metadata": {},
   "outputs": [],
   "source": [
    "a = {1,2,3}\n",
    "b = {1,2,3,4,5}"
   ]
  },
  {
   "cell_type": "code",
   "execution_count": 16,
   "id": "ba80fd27",
   "metadata": {},
   "outputs": [
    {
     "name": "stdout",
     "output_type": "stream",
     "text": [
      "False\n",
      "True\n"
     ]
    }
   ],
   "source": [
    "print(a.issuperset(b))\n",
    "print(a.issuperset(a))"
   ]
  },
  {
   "cell_type": "code",
   "execution_count": 17,
   "id": "0ac6c78a",
   "metadata": {},
   "outputs": [
    {
     "name": "stdout",
     "output_type": "stream",
     "text": [
      "True\n"
     ]
    }
   ],
   "source": [
    "print(a.issubset(b))"
   ]
  },
  {
   "cell_type": "code",
   "execution_count": 18,
   "id": "8cb532bd",
   "metadata": {},
   "outputs": [
    {
     "name": "stdout",
     "output_type": "stream",
     "text": [
      "False\n"
     ]
    }
   ],
   "source": [
    "print(b.issubset(a))"
   ]
  },
  {
   "cell_type": "code",
   "execution_count": 19,
   "id": "4db47653",
   "metadata": {},
   "outputs": [],
   "source": [
    "#dictionary \n",
    "# in max and min key only comes as output not value it wont be displayed"
   ]
  },
  {
   "cell_type": "code",
   "execution_count": 27,
   "id": "459efde6",
   "metadata": {},
   "outputs": [
    {
     "name": "stdout",
     "output_type": "stream",
     "text": [
      "<class 'dict'>\n",
      "True\n",
      "3\n",
      "['age', 'location', 'name']\n",
      "age\n",
      "name\n"
     ]
    }
   ],
   "source": [
    "a = {\"name\":\"kiran\" , \"age\":20 , \"location\":\"chennai\"}\n",
    "print(type(a))\n",
    "print(isinstance(a,dict))\n",
    "print(len(a))\n",
    "print(sorted(a))\n",
    "print(min(a))\n",
    "print(max(a))"
   ]
  },
  {
   "cell_type": "code",
   "execution_count": 28,
   "id": "11f3c6a2",
   "metadata": {},
   "outputs": [
    {
     "name": "stdout",
     "output_type": "stream",
     "text": [
      "kiran\n"
     ]
    }
   ],
   "source": [
    "print(a[\"name\"])"
   ]
  },
  {
   "cell_type": "code",
   "execution_count": 29,
   "id": "818febc5",
   "metadata": {},
   "outputs": [
    {
     "ename": "KeyError",
     "evalue": "'demo'",
     "output_type": "error",
     "traceback": [
      "\u001b[1;31m---------------------------------------------------------------------------\u001b[0m",
      "\u001b[1;31mKeyError\u001b[0m                                  Traceback (most recent call last)",
      "Cell \u001b[1;32mIn[29], line 1\u001b[0m\n\u001b[1;32m----> 1\u001b[0m \u001b[38;5;28mprint\u001b[39m(\u001b[43ma\u001b[49m\u001b[43m[\u001b[49m\u001b[38;5;124;43m\"\u001b[39;49m\u001b[38;5;124;43mdemo\u001b[39;49m\u001b[38;5;124;43m\"\u001b[39;49m\u001b[43m]\u001b[49m)\n",
      "\u001b[1;31mKeyError\u001b[0m: 'demo'"
     ]
    }
   ],
   "source": [
    "print(a[\"demo\"]) # as there is no key mentioned as \"demo\""
   ]
  },
  {
   "cell_type": "code",
   "execution_count": 30,
   "id": "c21e855d",
   "metadata": {},
   "outputs": [
    {
     "name": "stdout",
     "output_type": "stream",
     "text": [
      "None\n"
     ]
    }
   ],
   "source": [
    "print(a.get(\"demo\")) #in this demo is used as it only shows none as the result"
   ]
  },
  {
   "cell_type": "code",
   "execution_count": 31,
   "id": "0fd432d2",
   "metadata": {},
   "outputs": [
    {
     "name": "stdout",
     "output_type": "stream",
     "text": [
      "123\n"
     ]
    }
   ],
   "source": [
    "print(a.get(\"demo\",123)) # in this demo and someother integer is declared so it displays the integer value as its is assigned"
   ]
  },
  {
   "cell_type": "code",
   "execution_count": 32,
   "id": "719886f3",
   "metadata": {},
   "outputs": [
    {
     "name": "stdout",
     "output_type": "stream",
     "text": [
      "test\n"
     ]
    }
   ],
   "source": [
    "print(a.get(\"demo\",\"test\"))"
   ]
  },
  {
   "cell_type": "code",
   "execution_count": 36,
   "id": "5629afd6",
   "metadata": {},
   "outputs": [
    {
     "name": "stdout",
     "output_type": "stream",
     "text": [
      "{'name': 'kiran', 'age': 20, 'location': 'chennai'}\n",
      "{'name': 'kiran', 'age': 20, 'location': 'chennai', 'test': 'demo'}\n",
      "{'name': 'kiran', 'age': 20, 'location': 'chennai'}\n"
     ]
    }
   ],
   "source": [
    "\n",
    "a[\"test\"] = \"demo\" \n",
    "print(a)\n",
    "del a[\"test\"]\n",
    "print(a)"
   ]
  },
  {
   "cell_type": "code",
   "execution_count": 37,
   "id": "b03ae201",
   "metadata": {},
   "outputs": [
    {
     "name": "stdout",
     "output_type": "stream",
     "text": [
      "{'name': 'hello', 'age': 20, 'location': 'chennai'}\n"
     ]
    }
   ],
   "source": [
    "a[\"name\"] = \"hello\"\n",
    "print(a)"
   ]
  },
  {
   "cell_type": "code",
   "execution_count": 38,
   "id": "bf0f1ee5",
   "metadata": {},
   "outputs": [
    {
     "name": "stdout",
     "output_type": "stream",
     "text": [
      "{'name': 'hello', 'age': 20, 'location': 'chennai'}\n"
     ]
    }
   ],
   "source": [
    "a[\"name\"] = \"hello\"\n",
    "print(a)\n"
   ]
  },
  {
   "cell_type": "code",
   "execution_count": 39,
   "id": "72998667",
   "metadata": {},
   "outputs": [],
   "source": [
    "b = a.popitem()"
   ]
  },
  {
   "cell_type": "code",
   "execution_count": 40,
   "id": "7cd13822",
   "metadata": {},
   "outputs": [
    {
     "name": "stdout",
     "output_type": "stream",
     "text": [
      "{'name': 'hello', 'age': 20}\n",
      "('location', 'chennai')\n"
     ]
    }
   ],
   "source": [
    "print(a)\n",
    "print(b)"
   ]
  },
  {
   "cell_type": "code",
   "execution_count": 41,
   "id": "58b8d3d9",
   "metadata": {},
   "outputs": [
    {
     "name": "stdout",
     "output_type": "stream",
     "text": [
      "dict_keys(['name', 'age'])\n",
      "dict_values(['hello', 20])\n",
      "dict_items([('name', 'hello'), ('age', 20)])\n"
     ]
    }
   ],
   "source": [
    "print(a.keys())\n",
    "print(a.values())\n",
    "print(a.items())"
   ]
  },
  {
   "cell_type": "code",
   "execution_count": null,
   "id": "da478a94",
   "metadata": {},
   "outputs": [],
   "source": [
    "# a = create a list with some duplicates,remove the duplicates from the list and make it as a tuple\n",
    "# get user as a input and check whether it as a alphabet or not\n",
    "# get the value from the dictionary and sort it\n"
   ]
  }
 ],
 "metadata": {
  "kernelspec": {
   "display_name": "Python 3 (ipykernel)",
   "language": "python",
   "name": "python3"
  },
  "language_info": {
   "codemirror_mode": {
    "name": "ipython",
    "version": 3
   },
   "file_extension": ".py",
   "mimetype": "text/x-python",
   "name": "python",
   "nbconvert_exporter": "python",
   "pygments_lexer": "ipython3",
   "version": "3.10.9"
  }
 },
 "nbformat": 4,
 "nbformat_minor": 5
}
