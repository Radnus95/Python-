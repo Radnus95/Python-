{
 "cells": [
  {
   "cell_type": "code",
   "execution_count": 3,
   "id": "b1e0be84",
   "metadata": {},
   "outputs": [
    {
     "name": "stdout",
     "output_type": "stream",
     "text": [
      "True\n"
     ]
    }
   ],
   "source": [
    "a = \"sundar\"\n",
    "print(a.isalpha())"
   ]
  },
  {
   "cell_type": "code",
   "execution_count": 7,
   "id": "3d787edb",
   "metadata": {},
   "outputs": [
    {
     "name": "stdout",
     "output_type": "stream",
     "text": [
      "sundar:sundar\n"
     ]
    }
   ],
   "source": [
    "a =input(\"sundar:\")\n"
   ]
  },
  {
   "cell_type": "code",
   "execution_count": 8,
   "id": "10439201",
   "metadata": {},
   "outputs": [
    {
     "name": "stdout",
     "output_type": "stream",
     "text": [
      "['ashwin', 'loakesh', 'loakesh', 'sundar', 'sundar']\n"
     ]
    }
   ],
   "source": [
    "a = [\"sundar\",\"ashwin\",\"loakesh\",\"loakesh\",\"sundar\",'loakesh\",\"ashwin\"]\n",
    "     \n",
    "print(sorted(a))"
   ]
  },
  {
   "cell_type": "code",
   "execution_count": 20,
   "id": "d0ae3d57",
   "metadata": {},
   "outputs": [
    {
     "name": "stdout",
     "output_type": "stream",
     "text": [
      "0\n"
     ]
    }
   ],
   "source": [
    "e =[\"hi\",\"hello\",\"welcome\"]\n",
    "print(a.count(e))"
   ]
  },
  {
   "cell_type": "code",
   "execution_count": 21,
   "id": "96de811c",
   "metadata": {},
   "outputs": [
    {
     "name": "stdout",
     "output_type": "stream",
     "text": [
      "dict_values(['kiran', 20, 'chennai'])\n"
     ]
    }
   ],
   "source": [
    "a = {\"name\":\"kiran\" , \"age\":20 , \"location\":\"chennai\"}\n",
    "print(a.values())"
   ]
  },
  {
   "cell_type": "code",
   "execution_count": 27,
   "id": "a2aa23c4",
   "metadata": {},
   "outputs": [
    {
     "name": "stdout",
     "output_type": "stream",
     "text": [
      "['20', 'chennai', 'kiran']\n"
     ]
    }
   ],
   "source": [
    "values = \"kiran\" , \"20\" , \"chennai\"\n",
    "print(sorted(values))"
   ]
  },
  {
   "cell_type": "code",
   "execution_count": 6,
   "id": "61797720",
   "metadata": {},
   "outputs": [
    {
     "name": "stdout",
     "output_type": "stream",
     "text": [
      "['1']\n"
     ]
    }
   ],
   "source": [
    "a = [\"1\",\"2\",\"3\",\"4\",\"5\",\"1\",\"3\",\"2\"]\n",
    "print(a[:1])"
   ]
  },
  {
   "cell_type": "code",
   "execution_count": 7,
   "id": "21cc6a4f",
   "metadata": {},
   "outputs": [
    {
     "name": "stdout",
     "output_type": "stream",
     "text": [
      "['1', '2', '3', '4', '5', '1', '3', '2']\n"
     ]
    }
   ],
   "source": [
    "a = [\"1\",\"2\",\"3\",\"4\",\"5\",\"1\",\"3\",\"2\"]\n",
    "print(a)"
   ]
  },
  {
   "cell_type": "code",
   "execution_count": 8,
   "id": "9d26b8bc",
   "metadata": {},
   "outputs": [
    {
     "name": "stdout",
     "output_type": "stream",
     "text": [
      "{'1', '4', '2', '3', '5'}\n"
     ]
    }
   ],
   "source": [
    "b = set(a)\n",
    "print(b)"
   ]
  },
  {
   "cell_type": "code",
   "execution_count": 9,
   "id": "7200e39f",
   "metadata": {},
   "outputs": [
    {
     "name": "stdout",
     "output_type": "stream",
     "text": [
      "('1', '2', '3', '4', '5', '1', '3', '2')\n"
     ]
    }
   ],
   "source": [
    "b = tuple(a)\n",
    "print(b)"
   ]
  },
  {
   "cell_type": "code",
   "execution_count": null,
   "id": "a7db75bc",
   "metadata": {},
   "outputs": [],
   "source": []
  }
 ],
 "metadata": {
  "kernelspec": {
   "display_name": "Python 3 (ipykernel)",
   "language": "python",
   "name": "python3"
  },
  "language_info": {
   "codemirror_mode": {
    "name": "ipython",
    "version": 3
   },
   "file_extension": ".py",
   "mimetype": "text/x-python",
   "name": "python",
   "nbconvert_exporter": "python",
   "pygments_lexer": "ipython3",
   "version": "3.10.9"
  }
 },
 "nbformat": 4,
 "nbformat_minor": 5
}
