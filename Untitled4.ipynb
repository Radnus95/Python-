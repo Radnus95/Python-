{
 "cells": [
  {
   "cell_type": "code",
   "execution_count": 1,
   "id": "442784be",
   "metadata": {},
   "outputs": [],
   "source": [
    "## operators"
   ]
  },
  {
   "cell_type": "code",
   "execution_count": 2,
   "id": "ae6974b7",
   "metadata": {},
   "outputs": [],
   "source": [
    "## arithmetic operator"
   ]
  },
  {
   "cell_type": "code",
   "execution_count": 5,
   "id": "e47fded8",
   "metadata": {},
   "outputs": [],
   "source": [
    "a = 5\n",
    "b = 2"
   ]
  },
  {
   "cell_type": "code",
   "execution_count": 6,
   "id": "f55c8370",
   "metadata": {},
   "outputs": [
    {
     "name": "stdout",
     "output_type": "stream",
     "text": [
      "3\n",
      "7\n",
      "10\n",
      "25\n",
      "2.5\n",
      "2\n",
      "1\n"
     ]
    }
   ],
   "source": [
    "print(a-b)\n",
    "print(a+b)\n",
    "print(a*b)\n",
    "print(a**b) ## squares the number or power\n",
    "print(a/b)  \n",
    "print(a//b) ## floor division gives quotient\n",
    "print(a%b)  ## modulus gives remainder"
   ]
  },
  {
   "cell_type": "code",
   "execution_count": 7,
   "id": "f5be5aea",
   "metadata": {},
   "outputs": [],
   "source": [
    "## relational operators\n",
    "a = 2\n",
    "b = 5"
   ]
  },
  {
   "cell_type": "code",
   "execution_count": 8,
   "id": "6274b961",
   "metadata": {},
   "outputs": [
    {
     "name": "stdout",
     "output_type": "stream",
     "text": [
      "False\n",
      "True\n",
      "True\n",
      "True\n",
      "False\n",
      "False\n"
     ]
    }
   ],
   "source": [
    "print(a==b)\n",
    "print(a!=b)\n",
    "print(a<b)\n",
    "print(a<=b)\n",
    "print(a>b)\n",
    "print(a>=b)\n"
   ]
  },
  {
   "cell_type": "code",
   "execution_count": 9,
   "id": "6c3fac6a",
   "metadata": {},
   "outputs": [
    {
     "name": "stdout",
     "output_type": "stream",
     "text": [
      "7\n"
     ]
    }
   ],
   "source": [
    "## assignment operator\n",
    "a = 5\n",
    "b = 2\n",
    "a = a+2\n",
    "print(a)"
   ]
  },
  {
   "cell_type": "code",
   "execution_count": 11,
   "id": "065ac63d",
   "metadata": {},
   "outputs": [
    {
     "name": "stdout",
     "output_type": "stream",
     "text": [
      "True\n",
      "False\n",
      "True\n",
      "True\n",
      "False\n",
      "True\n"
     ]
    }
   ],
   "source": [
    "## logical operators\n",
    "print(True and True)  ## and operator prints the \n",
    "print(True and False)\n",
    "print(True or True)\n",
    "print(True or False)\n",
    "print(not True)\n",
    "print(not False)"
   ]
  },
  {
   "cell_type": "code",
   "execution_count": null,
   "id": "96686f90",
   "metadata": {},
   "outputs": [],
   "source": []
  },
  {
   "cell_type": "code",
   "execution_count": null,
   "id": "0f030bf5",
   "metadata": {},
   "outputs": [],
   "source": []
  }
 ],
 "metadata": {
  "kernelspec": {
   "display_name": "Python 3 (ipykernel)",
   "language": "python",
   "name": "python3"
  },
  "language_info": {
   "codemirror_mode": {
    "name": "ipython",
    "version": 3
   },
   "file_extension": ".py",
   "mimetype": "text/x-python",
   "name": "python",
   "nbconvert_exporter": "python",
   "pygments_lexer": "ipython3",
   "version": "3.10.9"
  }
 },
 "nbformat": 4,
 "nbformat_minor": 5
}
